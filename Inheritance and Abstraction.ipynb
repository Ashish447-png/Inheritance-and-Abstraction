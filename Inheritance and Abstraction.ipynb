{
 "cells": [
  {
   "cell_type": "markdown",
   "id": "2cbe8205-b368-4373-8a87-c12186505112",
   "metadata": {},
   "source": [
    "### single level inheritance"
   ]
  },
  {
   "cell_type": "code",
   "execution_count": 6,
   "id": "77358fe5-d3aa-404d-b30b-ca5e65531977",
   "metadata": {},
   "outputs": [],
   "source": [
    "\n",
    "class Father:   # father class\n",
    "    def father_property(self):\n",
    "        print(\"This is father property\")"
   ]
  },
  {
   "cell_type": "code",
   "execution_count": 7,
   "id": "2b6dfec6-8f6f-46df-809f-bef1814176b2",
   "metadata": {},
   "outputs": [],
   "source": [
    "class Son(Father):  # son class and here inherite the father class\n",
    "    def job(self):\n",
    "        print('son has also a job')"
   ]
  },
  {
   "cell_type": "code",
   "execution_count": 9,
   "id": "4b28068d-b580-410f-8f94-655573a34cf1",
   "metadata": {},
   "outputs": [],
   "source": [
    "child_obj=Son()"
   ]
  },
  {
   "cell_type": "code",
   "execution_count": 10,
   "id": "774edda5-c8db-4219-b5ac-f1087c2650f1",
   "metadata": {},
   "outputs": [
    {
     "name": "stdout",
     "output_type": "stream",
     "text": [
      "son has also a job\n"
     ]
    }
   ],
   "source": [
    "child_obj.job()"
   ]
  },
  {
   "cell_type": "code",
   "execution_count": 11,
   "id": "6c3e5360-9e8f-4cd3-80b4-e018fec9bb0b",
   "metadata": {},
   "outputs": [
    {
     "name": "stdout",
     "output_type": "stream",
     "text": [
      "This is father property\n"
     ]
    }
   ],
   "source": [
    "child_obj.father_property()"
   ]
  },
  {
   "cell_type": "code",
   "execution_count": 19,
   "id": "2a9a68d2-c405-45ec-8118-5eb5c8b39554",
   "metadata": {},
   "outputs": [],
   "source": [
    " class Fruit:\n",
    "     def fruit_info(self):\n",
    "         print('Inside parent class')\n",
    " class Apple(Fruit):\n",
    "     def fruit_info(self):\n",
    "         print('Inside child class')\n",
    "     def apple_info(self):\n",
    "         print('inside the child class')\n",
    "     \n"
   ]
  },
  {
   "cell_type": "code",
   "execution_count": 20,
   "id": "a6374a0d-d21e-4c07-ad82-8c505f399790",
   "metadata": {},
   "outputs": [],
   "source": [
    "Apple = Apple()"
   ]
  },
  {
   "cell_type": "code",
   "execution_count": 11,
   "id": "57f9cfcd-926d-4ed4-bf0c-29d45c0915ee",
   "metadata": {},
   "outputs": [
    {
     "name": "stdout",
     "output_type": "stream",
     "text": [
      "inside the child class\n"
     ]
    }
   ],
   "source": [
    "Apple.apple_info()"
   ]
  },
  {
   "cell_type": "code",
   "execution_count": 22,
   "id": "b8663a44-d4ba-4771-8a11-fa3fbc9549bc",
   "metadata": {},
   "outputs": [
    {
     "name": "stdout",
     "output_type": "stream",
     "text": [
      "Inside child class\n"
     ]
    }
   ],
   "source": [
    "Apple.fruit_info() # method overriding >> child class is very powerful"
   ]
  },
  {
   "cell_type": "code",
   "execution_count": null,
   "id": "abb923a4-0f8c-4964-8060-04ee0dd84a40",
   "metadata": {},
   "outputs": [],
   "source": []
  },
  {
   "cell_type": "markdown",
   "id": "84f1c916-3eac-4cfe-b69e-b5909f4785d4",
   "metadata": {},
   "source": [
    "# Multi_level inheritance"
   ]
  },
  {
   "cell_type": "code",
   "execution_count": 23,
   "id": "bd7201c9-e8c2-4d6e-8ef2-81c1b796c344",
   "metadata": {},
   "outputs": [],
   "source": [
    "class Grandfather:   # grandfather class\n",
    "    def prop_grandfather(self):\n",
    "        print('I am your grandfather')\n",
    "\n",
    "class Father(Grandfather):  # father class and inherite grandfather\n",
    "    def prop_father(self):\n",
    "        print('I am your father and having property of mine and your grandfather as well as')\n",
    "\n",
    "class Son(Father):  # that is son class and inherite father class\n",
    "    def prop_son(self):\n",
    "        print('I have property of my father and Grandfather')"
   ]
  },
  {
   "cell_type": "code",
   "execution_count": 26,
   "id": "6ea57509-e9a2-49d4-92ec-370de6f4526c",
   "metadata": {},
   "outputs": [],
   "source": [
    "son = Son()"
   ]
  },
  {
   "cell_type": "code",
   "execution_count": 27,
   "id": "6eb8bb54-06dc-47b1-a487-56051c4529d2",
   "metadata": {},
   "outputs": [
    {
     "name": "stdout",
     "output_type": "stream",
     "text": [
      "I am your grandfather\n"
     ]
    }
   ],
   "source": [
    "son.prop_grandfather()"
   ]
  },
  {
   "cell_type": "markdown",
   "id": "a732c493-247a-4613-83b1-b28a292666cd",
   "metadata": {},
   "source": [
    "### Multiple inheritance"
   ]
  },
  {
   "cell_type": "code",
   "execution_count": 35,
   "id": "406d94e4-2506-4ac5-9a71-a56acb2684e9",
   "metadata": {},
   "outputs": [],
   "source": [
    "class Dad:\n",
    "    def dad_property(self):\n",
    "        print(\"I have some property\")\n",
    "\n",
    "class Mom:\n",
    "    def mom_property(self):\n",
    "        print(\"I have some property\")"
   ]
  },
  {
   "cell_type": "code",
   "execution_count": 36,
   "id": "8b2bd4fc-0d22-40e5-a03d-2a4ac961ce9a",
   "metadata": {},
   "outputs": [],
   "source": [
    "class Childclass(Dad , Mom):\n",
    "    def child_method(self):\n",
    "        print('I have my own property as well as my mom and dad')"
   ]
  },
  {
   "cell_type": "code",
   "execution_count": 37,
   "id": "2f57bf7e-c4bb-40fa-b78f-f08802238ea6",
   "metadata": {},
   "outputs": [],
   "source": [
    "child = Childclass()"
   ]
  },
  {
   "cell_type": "code",
   "execution_count": 39,
   "id": "fca73013-c070-4b16-b20c-c6c747939b10",
   "metadata": {},
   "outputs": [
    {
     "name": "stdout",
     "output_type": "stream",
     "text": [
      "I have some property\n"
     ]
    }
   ],
   "source": [
    "child.dad_property()"
   ]
  },
  {
   "cell_type": "code",
   "execution_count": 40,
   "id": "85f7079f-b00a-4514-937f-a519069c9517",
   "metadata": {},
   "outputs": [
    {
     "name": "stdout",
     "output_type": "stream",
     "text": [
      "I have some property\n"
     ]
    }
   ],
   "source": [
    "child.mom_property()"
   ]
  },
  {
   "cell_type": "code",
   "execution_count": 41,
   "id": "d86e1b41-3609-41de-a21a-57a47fb6a708",
   "metadata": {},
   "outputs": [
    {
     "name": "stdout",
     "output_type": "stream",
     "text": [
      "I have my own propert as well as my mom and dad\n"
     ]
    }
   ],
   "source": [
    "child.child_method()"
   ]
  },
  {
   "cell_type": "markdown",
   "id": "78f14dc4-3efd-4fc3-9d10-0895174ddf64",
   "metadata": {},
   "source": [
    "### child class always powerfull that saw with example : "
   ]
  },
  {
   "cell_type": "code",
   "execution_count": 42,
   "id": "c0c97da6-99ed-41fd-8e8c-0c9493d4897f",
   "metadata": {},
   "outputs": [],
   "source": [
    "class A:\n",
    "    def method(self):\n",
    "        print('Method class A')\n",
    "class B:\n",
    "    def method(self):\n",
    "        print('Method class B')\n",
    "\n",
    "class C:\n",
    "    def method(self):\n",
    "        print('Method class C')\n",
    "\n",
    "class D(B,C):\n",
    "    pass\n",
    "        \n",
    "    "
   ]
  },
  {
   "cell_type": "code",
   "execution_count": 43,
   "id": "a5c22f67-419d-4e7d-bb9c-cf726d85b733",
   "metadata": {},
   "outputs": [],
   "source": [
    "call = D()"
   ]
  },
  {
   "cell_type": "code",
   "execution_count": 44,
   "id": "554a384e-9107-4fbd-bffd-9703831813f4",
   "metadata": {},
   "outputs": [
    {
     "name": "stdout",
     "output_type": "stream",
     "text": [
      "Method class B\n"
     ]
    }
   ],
   "source": [
    "call.method()  # Dimond problem"
   ]
  },
  {
   "cell_type": "code",
   "execution_count": null,
   "id": "c8c00ed9-65cd-4bda-ae2f-9f966c32f822",
   "metadata": {},
   "outputs": [],
   "source": []
  },
  {
   "cell_type": "markdown",
   "id": "2dbc17fc-b19c-4ef9-98e6-d369c2bfe415",
   "metadata": {},
   "source": [
    "### Hirerchical inheritance"
   ]
  },
  {
   "cell_type": "code",
   "execution_count": 1,
   "id": "a464937a-93fa-46af-bc22-d0b7a0a59e64",
   "metadata": {},
   "outputs": [],
   "source": [
    "class Vehicle:\n",
    "    def info(self):\n",
    "        print('This is vehicle')\n",
    "class Car(Vehicle):\n",
    "    def car_info(self,name):\n",
    "        print(\"This is car  info\",name)\n",
    "class Truck(Vehicle):\n",
    "    def Truck_info(self,name):\n",
    "        print(\"This is truck info\",name)"
   ]
  },
  {
   "cell_type": "code",
   "execution_count": 2,
   "id": "c01ddc19-4721-4d29-804a-c8ee84d056f6",
   "metadata": {},
   "outputs": [],
   "source": [
    "a = Truck()"
   ]
  },
  {
   "cell_type": "code",
   "execution_count": 3,
   "id": "f5c2e1f3-6a6c-457a-932c-49fc6edb2059",
   "metadata": {},
   "outputs": [
    {
     "name": "stdout",
     "output_type": "stream",
     "text": [
      "This is vehicle\n"
     ]
    }
   ],
   "source": [
    "a.info()"
   ]
  },
  {
   "cell_type": "code",
   "execution_count": 5,
   "id": "10efe72a-3a3a-4106-9283-b3546c9a015c",
   "metadata": {},
   "outputs": [
    {
     "name": "stdout",
     "output_type": "stream",
     "text": [
      "This is truck info mahindra\n"
     ]
    }
   ],
   "source": [
    "a.Truck_info('mahindra')"
   ]
  },
  {
   "cell_type": "markdown",
   "id": "efefbb08-32db-42b3-a61a-9a09a496b2c4",
   "metadata": {},
   "source": [
    "### hybrid inheritance"
   ]
  },
  {
   "cell_type": "code",
   "execution_count": 6,
   "id": "11b9ba41-b386-4c0e-b679-9448ab346361",
   "metadata": {},
   "outputs": [],
   "source": [
    "class Vehicle:\n",
    "    def vehicle_info(self):\n",
    "        print('Inside Vehicle class')\n",
    "\n",
    "class Car(Vehicle):\n",
    "    def car_info(self):\n",
    "        print('Inside car class')\n",
    "\n",
    "class Truck(Vehicle):\n",
    "    def truck_info(self):\n",
    "        print('Truck info')\n",
    "\n",
    "class Sportscar(Car,Truck):\n",
    "    def sports_info(self):\n",
    "        print('Inside sports car class')"
   ]
  },
  {
   "cell_type": "code",
   "execution_count": 7,
   "id": "504b1cf9-e3f8-42af-8600-4f7afb5b481f",
   "metadata": {},
   "outputs": [],
   "source": [
    "a = Sportscar()"
   ]
  },
  {
   "cell_type": "code",
   "execution_count": 8,
   "id": "c0eea135-520b-45a3-9ec8-9dbc85b7a11d",
   "metadata": {},
   "outputs": [
    {
     "name": "stdout",
     "output_type": "stream",
     "text": [
      "Inside Vehicle class\n"
     ]
    }
   ],
   "source": [
    "a.vehicle_info()"
   ]
  },
  {
   "cell_type": "code",
   "execution_count": 9,
   "id": "bb282dbe-a09a-41b8-8890-5794d1f8c9a4",
   "metadata": {},
   "outputs": [
    {
     "name": "stdout",
     "output_type": "stream",
     "text": [
      "Inside car class\n"
     ]
    }
   ],
   "source": [
    "a.car_info()"
   ]
  },
  {
   "cell_type": "markdown",
   "id": "487c92f2-7f6b-42f6-bedc-b4d4880921a3",
   "metadata": {},
   "source": [
    "### Abstraction"
   ]
  },
  {
   "cell_type": "code",
   "execution_count": 11,
   "id": "cc8d4799-4050-4dec-84f1-03cba2716aac",
   "metadata": {},
   "outputs": [],
   "source": [
    "import abc"
   ]
  },
  {
   "cell_type": "code",
   "execution_count": 15,
   "id": "045cbf82-72fd-4365-8788-5ea11dc22dc9",
   "metadata": {},
   "outputs": [],
   "source": [
    "class Pwskills:\n",
    "    @abc.abstractmethod\n",
    "    def student_details(self):\n",
    "        pass\n",
    "        \n",
    "    @abc.abstractmethod\n",
    "    def student_assigment(self):\n",
    "        pass\n",
    "\n",
    "    @abc.abstractmethod\n",
    "    def student_mark(self):\n",
    "        pass"
   ]
  },
  {
   "cell_type": "code",
   "execution_count": 16,
   "id": "3a962662-2198-4428-8c14-061e281d6ed1",
   "metadata": {},
   "outputs": [],
   "source": [
    "class Data_science(Pwskills):\n",
    "    def student_details(self):\n",
    "        return \"Data science course\"\n",
    "    def student_mark(self):\n",
    "        return \"Give data science course marks\""
   ]
  },
  {
   "cell_type": "code",
   "execution_count": 17,
   "id": "65ba11e3-5fa1-4f74-b93f-20cd732d7a7c",
   "metadata": {},
   "outputs": [],
   "source": [
    "class web_dev(Pwskills):\n",
    "    def student_assigment(self):\n",
    "        return \"Check daily student assigment\"\n",
    "    def student_mark(self):\n",
    "        return \"Check student marks\""
   ]
  },
  {
   "cell_type": "code",
   "execution_count": 18,
   "id": "41d8f719-6892-4d60-9ad1-91a207a4a110",
   "metadata": {},
   "outputs": [],
   "source": [
    "a = Data_science()"
   ]
  },
  {
   "cell_type": "code",
   "execution_count": 19,
   "id": "56dcb858-21bb-42e9-9453-4ca9f5236ac5",
   "metadata": {},
   "outputs": [],
   "source": [
    "a.student_assigment()"
   ]
  },
  {
   "cell_type": "code",
   "execution_count": 20,
   "id": "09aaed54-d3e4-4cfc-b306-ed8e01300b42",
   "metadata": {},
   "outputs": [
    {
     "data": {
      "text/plain": [
       "'Data science course'"
      ]
     },
     "execution_count": 20,
     "metadata": {},
     "output_type": "execute_result"
    }
   ],
   "source": [
    "a.student_details()"
   ]
  },
  {
   "cell_type": "code",
   "execution_count": null,
   "id": "3c707b2b-5291-4259-b709-79d179531ce1",
   "metadata": {},
   "outputs": [],
   "source": []
  }
 ],
 "metadata": {
  "kernelspec": {
   "display_name": "Python 3 (ipykernel)",
   "language": "python",
   "name": "python3"
  },
  "language_info": {
   "codemirror_mode": {
    "name": "ipython",
    "version": 3
   },
   "file_extension": ".py",
   "mimetype": "text/x-python",
   "name": "python",
   "nbconvert_exporter": "python",
   "pygments_lexer": "ipython3",
   "version": "3.12.7"
  }
 },
 "nbformat": 4,
 "nbformat_minor": 5
}
